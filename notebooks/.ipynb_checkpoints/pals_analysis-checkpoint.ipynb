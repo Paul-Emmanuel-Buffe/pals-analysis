{
 "cells": [
  {
   "cell_type": "markdown",
   "id": "ef3c7eb6-b01a-4397-b96e-725ac52d1a30",
   "metadata": {},
   "source": [
    "# Le jeu Palworld et analyse des données\n",
    "\n",
    "## Présentation du jeu Palworld\n",
    "\n",
    "Palworld est un jeu de survie en monde ouvert développé par Pocket Pair, sorti en janvier 2024. Ce jeu combine des éléments de survie, de crafting, de collection de créatures et de construction de base. Il se déroule dans un monde ouvert peuplé de créatures appelées \"Pals\" que les joueurs peuvent capturer, élever et utiliser pour diverses tâches.\n",
    "\n",
    "Les aspects clés du jeu incluent:\n",
    "\n",
    "| Aspect |\n",
    "| - |\n",
    "| La capture et la collection de Pals (similaire à Pokémon) |\n",
    "| L'utilisation des Pals pour combattre |\n",
    "| L'exploitation des Pals pour des tâches comme la construction, l'agriculture, et le travail en usine |\n",
    "| La construction et le développement d'un campement |\n",
    "| L'exploration d'un monde ouvert avec différentes zones et biomes |\n",
    "\n",
    "Le jeu a connu un immense succès dès sa sortie en raison de son concept innovant mêlant des mécaniques de jeux populaires comme Pokémon et Minecraft, mais avec une approche plus mature et parfois controversée.\n"
   ]
  },
  {
   "cell_type": "markdown",
   "id": "fb95669a-9b3e-4533-874a-6170721944b1",
   "metadata": {},
   "source": [
    "## Import des bibliothèques Python de l'étude"
   ]
  },
  {
   "cell_type": "code",
   "execution_count": 2,
   "id": "f92bb223-cfe9-46df-91b4-6f5178810f03",
   "metadata": {},
   "outputs": [],
   "source": [
    "import pandas as pd\n",
    "import numpy as np\n",
    "import matplotlib.pyplot as plt\n",
    "import seaborn as sns\n",
    "import mariadb\n",
    "from sqlalchemy import create_engine\n",
    "import plotly.express as px\n",
    "import plotly.graph_objects as go\n",
    "import os\n",
    "from pathlib import Path"
   ]
  },
  {
   "cell_type": "markdown",
   "id": "540c48e1-a654-4dc0-8b27-2b875bbdd8d5",
   "metadata": {},
   "source": [
    "## Chargement des données brutes"
   ]
  },
  {
   "cell_type": "code",
   "execution_count": 12,
   "id": "d77d2225-597c-4a75-beff-8f1814014c36",
   "metadata": {},
   "outputs": [
    {
     "name": "stdout",
     "output_type": "stream",
     "text": [
      "Fichiers dispo:\n",
      "-Palworld_Data--Palu combat attribute table.csv\n",
      "-Palworld_Data--Palu refresh level.csv\n",
      "-Palworld_Data-comparison of ordinary BOSS attributes.csv\n",
      "-Palworld_Data-hide pallu attributes.csv\n",
      "-Palworld_Data-Palu Job Skills Table.csv\n",
      "-Palworld_Data-Tower BOSS attribute comparison.csv\n"
     ]
    }
   ],
   "source": [
    "# Définition du chemin vers les fichiers fournis\n",
    "data_path = \"../data/\"\n",
    "\n",
    "# Vérification de l'existence du repertoire , if not utiliser le repertoire courrant\n",
    "if not os.path.exists(data_path):\n",
    "    data_path = \"./\"\n",
    "\n",
    "# Affichage des fichiers dispo pour la vérif\n",
    "files = [f for f in os.listdir(data_path) if f.endswith('.csv')] # ici on liste tous les fichiers ou dossiers + on itère chaque élément + Filtre pour garder que les fichier .csv\n",
    "print(\"Fichiers dispo:\")\n",
    "for file in files: \n",
    "    print(f\"-{file}\")\n",
    "\n",
    "# Chargement des données brutes & gestion d'erreurs grâce à pd.read_csv en définissant le chemin vers les fichiers.csv \n",
    "try:\n",
    "    combat_attribute = pd.read_csv(f'{data_path}Palworld_Data--Palu combat attribute table.csv')\n",
    "    refresh_area = pd.read_csv(f'{data_path}Palworld_Data--Palu refresh level.csv')\n",
    "    ordinary_boss = pd.read_csv(f'{data_path}Palworld_Data-comparison of ordinary BOSS attributes.csv')\n",
    "    tower_boss = pd.read_csv(f'{data_path}Palworld_Data-Tower BOSS attribute comparison.csv') \n",
    "    job_skill = pd.read_csv(f'{data_path}Palworld_Data-Palu Job Skills Table.csv')\n",
    "    hidden_attribute = pd.read_csv(f'{data_path}Palworld_Data-hide pallu attributes.csv')\n",
    "except FileNotFoundError as e : \n",
    "  print(f\"Erreur: {e}. Vérifier les noms des fichiers et le chemin.\")"
   ]
  },
  {
   "cell_type": "markdown",
   "id": "d4635981-2446-48c7-a6e3-bcd32d772fda",
   "metadata": {},
   "source": [
    "## Analyse exploratoires des données "
   ]
  },
  {
   "cell_type": "code",
   "execution_count": 7,
   "id": "a8a1224f-7cd8-46ea-8312-1c2a9fcb8653",
   "metadata": {},
   "outputs": [
    {
     "name": "stdout",
     "output_type": "stream",
     "text": [
      "Current working directory: C:\\Users\\Windows\\Desktop\\projets\\1a\\MariaDB\\pals-analysis\\notebooks\n"
     ]
    }
   ],
   "source": [
    "def explore_dataframe(df, name):\n",
    "    print(f\"\\n===== Exploration de {name} =====\")\n",
    "    print(f\"Dimensions: {df.shape[0]} lignes, {df.shape[1]} colonnes\")\n",
    "\n",
    "    # Résumé des données\n",
    "    print(\"\\nAnalyse du résumé des données:\")\n",
    "    df.info()\n",
    "\n",
    "    print(\"\\nAnalyse des premières lignes:\")\n",
    "    display(df.head(3))\n",
    "\n",
    "    print(\"\\nAnalyse des types de données:\")\n",
    "    display(df.dtypes)\n",
    "\n",
    "    print(\"\\nAnalyse des statistiques descriptives:\")\n",
    "    display(df.describe(include='all').T)\n",
    "\n",
    "    print(\"\\nAnalyse des valeurs manquantes:\")\n",
    "    missing = df.isnull().sum()\n",
    "    missing_percent = (df.isnull().sum() / len(df)) * 100\n",
    "    missing_data = pd.concat([missing, missing_percent], axis=1, keys=['Total', 'Pourcentage'])\n",
    "    display(missing_data[missing_data['Total'] > 0])\n",
    "    if missing_data['Total'].sum() == 0:\n",
    "        print(\"Dataset complet\")\n",
    "\n",
    "    duplicates = df.duplicated().sum()\n",
    "    print(f\"\\nAnalyse des lignes dupliquées: {duplicates}\")\n",
    "\n",
    "    print(\"\\nAnalyse des valeurs uniques pour les colonnes catégorielles:\")\n",
    "    for col in df.select_dtypes(include=['object']).columns:\n",
    "        unique_values = df[col].unique()\n",
    "        if len(unique_values) < 10:\n",
    "            print(f\"{col}: {unique_values}\")\n",
    "        else:\n",
    "            print(f\"{col}: {len(unique_values)} valeurs uniques\")\n",
    "\n",
    "    # Analyse des corrélations\n",
    "    if len(df.select_dtypes(include=['number']).columns) > 1:\n",
    "        print(\"\\nAnalyse de corrélations:\")\n",
    "        display(df.corr())\n",
    "\n",
    "# Dictionnaire des datasets\n",
    "datasets = {\n",
    "    'Attributs de combat': combat_attribute,\n",
    "    'Niveau de rafraîchissement': refresh_area,\n",
    "    'Comparaison des attributs de boss ordinaire': ordinary_boss,\n",
    "    'Comparaison des attributs de boss de tour': tower_boss,\n",
    "    'Attributs cachés': hidden_attribute,\n",
    "    'Compétences de métiers': job_skill\n",
    "}\n",
    "\n"
   ]
  },
  {
   "cell_type": "code",
   "execution_count": null,
   "id": "f3a89a1f-2987-425a-bd4b-65dc5eb049c5",
   "metadata": {},
   "outputs": [],
   "source": []
  }
 ],
 "metadata": {
  "kernelspec": {
   "display_name": "Python [conda env:Pals]",
   "language": "python",
   "name": "conda-env-Pals-py"
  },
  "language_info": {
   "codemirror_mode": {
    "name": "ipython",
    "version": 3
   },
   "file_extension": ".py",
   "mimetype": "text/x-python",
   "name": "python",
   "nbconvert_exporter": "python",
   "pygments_lexer": "ipython3",
   "version": "3.10.16"
  }
 },
 "nbformat": 4,
 "nbformat_minor": 5
}
